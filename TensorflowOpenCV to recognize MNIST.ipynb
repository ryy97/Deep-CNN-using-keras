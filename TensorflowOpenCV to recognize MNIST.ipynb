{
 "cells": [
  {
   "cell_type": "code",
   "execution_count": 16,
   "id": "91fcad10",
   "metadata": {},
   "outputs": [],
   "source": [
    "import tensorflow as tf # pip install tensorflow"
   ]
  },
  {
   "cell_type": "code",
   "execution_count": 20,
   "id": "e300636a",
   "metadata": {},
   "outputs": [],
   "source": [
    "from keras.datasets import mnist"
   ]
  },
  {
   "cell_type": "code",
   "execution_count": 22,
   "id": "b1a73f6b",
   "metadata": {},
   "outputs": [],
   "source": [
    "(x_train,y_train),(x_test,y_test) = mnist.load_data()"
   ]
  },
  {
   "cell_type": "code",
   "execution_count": 36,
   "id": "76728e37",
   "metadata": {},
   "outputs": [
    {
     "data": {
      "image/png": "[encoded data removed]",
      "text/plain": [
       "<Figure size 432x288 with 1 Axes>"
      ]
     },
     "metadata": {
      "needs_background": "light"
     },
     "output_type": "display_data"
    },
    {
     "data": {
      "text/plain": [
       "<matplotlib.image.AxesImage at 0x7f90ccfe5190>"
      ]
     },
     "execution_count": 36,
     "metadata": {},
     "output_type": "execute_result"
    },
    {
     "data": {
      "image/png": "[encoded data removed]",
      "text/plain": [
       "<Figure size 432x288 with 1 Axes>"
      ]
     },
     "metadata": {
      "needs_background": "light"
     },
     "output_type": "display_data"
    }
   ],
   "source": [
    "import matplotlib.pyplot as plt\n",
    "plt.imshow(x_train[0])\n",
    "plt.show()\n",
    "plt.imshow(x_train[0],cmap = plt.cm.binary)"
   ]
  },
  {
   "cell_type": "code",
   "execution_count": 38,
   "id": "39663649",
   "metadata": {},
   "outputs": [
    {
     "data": {
      "text/plain": [
       "<matplotlib.image.AxesImage at 0x7f90cd9e7610>"
      ]
     },
     "execution_count": 38,
     "metadata": {},
     "output_type": "execute_result"
    },
    {
     "data": {
      "image/png": "[encoded data removed]",
      "text/plain": [
       "<Figure size 432x288 with 1 Axes>"
      ]
     },
     "metadata": {
      "needs_background": "light"
     },
     "output_type": "display_data"
    }
   ],
   "source": [
    "x_train = tf.keras.utils.normalize(x_train, axis = 1)\n",
    "x_test = tf.keras.utils.normalize(x_test, axis = 1)\n",
    "plt.imshow(x_train[0], cmap = plt.cm.binary)"
   ]
  },
  {
   "cell_type": "code",
   "execution_count": 40,
   "id": "eb4b4696",
   "metadata": {},
   "outputs": [
    {
     "name": "stdout",
     "output_type": "stream",
     "text": [
      "training samplem dimension (60000, 28, 28, 1)\n",
      "test samplem dimension (10000, 28, 28, 1)\n"
     ]
    }
   ],
   "source": [
    "import numpy as np\n",
    "IMG_size = 28\n",
    "x_train = np.array(x_train).reshape(-1,IMG_size,IMG_size,1)\n",
    "x_test = np.array(x_test).reshape(-1,IMG_size,IMG_size,1)\n",
    "print(\"training samplem dimension\", x_train.shape)\n",
    "print(\"test samplem dimension\", x_test.shape)"
   ]
  },
  {
   "cell_type": "code",
   "execution_count": 41,
   "id": "6e9c8567",
   "metadata": {},
   "outputs": [],
   "source": [
    "from tensorflow.keras.models import Sequential\n",
    "from tensorflow.keras.layers import Dense, Dropout, Activation, Flatten, Conv2D, MaxPooling2D\n"
   ]
  },
  {
   "cell_type": "code",
   "execution_count": 63,
   "id": "48b85320",
   "metadata": {},
   "outputs": [],
   "source": [
    "model = Sequential()\n",
    "\n",
    "# First convolution layer 28-3+1=26\n",
    "model.add(Conv2D(64,(3,3),input_shape = x_train.shape[1:]))\n",
    "model.add(Activation(\"relu\"))\n",
    "model.add(MaxPooling2D(pool_size = (2,2)))\n",
    "\n",
    "# 2nd convolution layer 26-3+1=24\n",
    "model.add(Conv2D(64,(3,3),input_shape = x_train.shape[1:]))\n",
    "model.add(Activation(\"relu\"))\n",
    "model.add(MaxPooling2D(pool_size = (2,2)))\n",
    "\n",
    "# 3rd convolution layer 24*24\n",
    "model.add(Conv2D(64,(3,3),input_shape = x_train.shape[1:]))\n",
    "model.add(Activation(\"relu\"))\n",
    "model.add(MaxPooling2D(pool_size = (2,2)))\n",
    "\n",
    "# Fully connected layer #1 \n",
    "model.add(Flatten())\n",
    "model.add(Dense(64))\n",
    "model.add(Activation(\"relu\"))\n",
    "\n",
    "# Fully connected layer #2\n",
    "model.add(Dense(32))\n",
    "model.add(Activation(\"relu\"))\n",
    "\n",
    "# Last Fully connected layer, output must be equal to number of classes, 10(0-9 characters)\n",
    "model.add(Dense(10)) #this last dense later must be 10\n",
    "model.add(Activation(\"softmax\")) #give you class probobabilities (softmax)\n",
    "\n"
   ]
  },
  {
   "cell_type": "code",
   "execution_count": 47,
   "id": "0f9e156b",
   "metadata": {},
   "outputs": [
    {
     "name": "stdout",
     "output_type": "stream",
     "text": [
      "Model: \"sequential_2\"\n",
      "_________________________________________________________________\n",
      " Layer (type)                Output Shape              Param #   \n",
      "=================================================================\n",
      " conv2d_4 (Conv2D)           (None, 26, 26, 64)        640       \n",
      "                                                                 \n",
      " activation_7 (Activation)   (None, 26, 26, 64)        0         \n",
      "                                                                 \n",
      " max_pooling2d_3 (MaxPooling  (None, 13, 13, 64)       0         \n",
      " 2D)                                                             \n",
      "                                                                 \n",
      " conv2d_5 (Conv2D)           (None, 11, 11, 64)        36928     \n",
      "                                                                 \n",
      " activation_8 (Activation)   (None, 11, 11, 64)        0         \n",
      "                                                                 \n",
      " max_pooling2d_4 (MaxPooling  (None, 5, 5, 64)         0         \n",
      " 2D)                                                             \n",
      "                                                                 \n",
      " conv2d_6 (Conv2D)           (None, 3, 3, 64)          36928     \n",
      "                                                                 \n",
      " activation_9 (Activation)   (None, 3, 3, 64)          0         \n",
      "                                                                 \n",
      " max_pooling2d_5 (MaxPooling  (None, 1, 1, 64)         0         \n",
      " 2D)                                                             \n",
      "                                                                 \n",
      " flatten_1 (Flatten)         (None, 64)                0         \n",
      "                                                                 \n",
      " dense_3 (Dense)             (None, 64)                4160      \n",
      "                                                                 \n",
      " activation_10 (Activation)  (None, 64)                0         \n",
      "                                                                 \n",
      " dense_4 (Dense)             (None, 32)                2080      \n",
      "                                                                 \n",
      " activation_11 (Activation)  (None, 32)                0         \n",
      "                                                                 \n",
      " dense_5 (Dense)             (None, 10)                330       \n",
      "                                                                 \n",
      " activation_12 (Activation)  (None, 10)                0         \n",
      "                                                                 \n",
      "=================================================================\n",
      "Total params: 81,066\n",
      "Trainable params: 81,066\n",
      "Non-trainable params: 0\n",
      "_________________________________________________________________\n"
     ]
    }
   ],
   "source": [
    "model.summary()"
   ]
  },
  {
   "cell_type": "code",
   "execution_count": 50,
   "id": "35ba2b76",
   "metadata": {},
   "outputs": [
    {
     "name": "stdout",
     "output_type": "stream",
     "text": [
      "Total Training Samples =  60000\n"
     ]
    }
   ],
   "source": [
    "print(\"Total Training Samples = \",len(x_train))"
   ]
  },
  {
   "cell_type": "code",
   "execution_count": 55,
   "id": "fe057b24",
   "metadata": {},
   "outputs": [],
   "source": [
    "model.compile(loss = \"sparse_categorical_crossentropy\", optimizer = \"adam\", metrics = ['accuracy'])"
   ]
  },
  {
   "cell_type": "code",
   "execution_count": 56,
   "id": "0d221939",
   "metadata": {},
   "outputs": [
    {
     "name": "stdout",
     "output_type": "stream",
     "text": [
      "Epoch 1/5\n",
      "1313/1313 [==============================] - 49s 37ms/step - loss: 0.3171 - accuracy: 0.8990 - val_loss: 0.1214 - val_accuracy: 0.9634\n",
      "Epoch 2/5\n",
      "1313/1313 [==============================] - 49s 37ms/step - loss: 0.0993 - accuracy: 0.9690 - val_loss: 0.0996 - val_accuracy: 0.9697\n",
      "Epoch 3/5\n",
      "1313/1313 [==============================] - 48s 36ms/step - loss: 0.0717 - accuracy: 0.9783 - val_loss: 0.0679 - val_accuracy: 0.9796\n",
      "Epoch 4/5\n",
      "1313/1313 [==============================] - 50s 38ms/step - loss: 0.0555 - accuracy: 0.9824 - val_loss: 0.0783 - val_accuracy: 0.9782\n",
      "Epoch 5/5\n",
      "1313/1313 [==============================] - 51s 39ms/step - loss: 0.0451 - accuracy: 0.9855 - val_loss: 0.0570 - val_accuracy: 0.9831\n"
     ]
    },
    {
     "data": {
      "text/plain": [
       "<keras.callbacks.History at 0x7f90cd0ef6a0>"
      ]
     },
     "execution_count": 56,
     "metadata": {},
     "output_type": "execute_result"
    }
   ],
   "source": [
    "model.fit(x_train,y_train,epochs = 5, validation_split = 0.3)"
   ]
  },
  {
   "cell_type": "code",
   "execution_count": 59,
   "id": "8ec62680",
   "metadata": {},
   "outputs": [
    {
     "name": "stdout",
     "output_type": "stream",
     "text": [
      "313/313 [==============================] - 2s 8ms/step - loss: 0.0597 - accuracy: 0.9823\n",
      "Test Loss on 10000 test samples 0.05972982197999954\n",
      "Validation Accuracy on 10000 test samples 0.9822999835014343\n"
     ]
    }
   ],
   "source": [
    "test_loss, test_acc = model.evaluate(x_test,y_test)\n",
    "print(\"Test Loss on 10000 test samples\",test_loss)\n",
    "print(\"Validation Accuracy on 10000 test samples\",test_acc)"
   ]
  },
  {
   "cell_type": "code",
   "execution_count": 60,
   "id": "87bf5dfc",
   "metadata": {},
   "outputs": [],
   "source": [
    "predictions = model.predict([x_test])"
   ]
  },
  {
   "cell_type": "code",
   "execution_count": 61,
   "id": "c6a19a5a",
   "metadata": {},
   "outputs": [
    {
     "name": "stdout",
     "output_type": "stream",
     "text": [
      "[[3.66593061e-10 1.83601671e-07 1.01018732e-05 ... 9.99988317e-01\n",
      "  5.46143131e-09 3.62626693e-08]\n",
      " [3.95746014e-08 1.15404806e-08 9.99999881e-01 ... 6.16385520e-08\n",
      "  5.18240384e-08 1.12645372e-10]\n",
      " [2.36032305e-09 9.99992609e-01 1.42893293e-06 ... 9.73160468e-07\n",
      "  5.99995502e-08 2.78887047e-08]\n",
      " ...\n",
      " [1.91609861e-09 6.66574618e-09 1.31437021e-08 ... 1.60082763e-07\n",
      "  1.27839371e-07 2.01222774e-05]\n",
      " [1.75590212e-05 1.27781735e-11 5.41291623e-10 ... 6.53290755e-11\n",
      "  1.01851691e-02 2.15875775e-06]\n",
      " [8.49748030e-05 1.79980276e-07 2.91340393e-06 ... 1.32382112e-07\n",
      "  8.02136899e-04 3.68813858e-06]]\n"
     ]
    }
   ],
   "source": [
    "print(predictions)"
   ]
  },
  {
   "cell_type": "code",
   "execution_count": null,
   "id": "482918b8",
   "metadata": {},
   "outputs": [],
   "source": []
  }
 ],
 "metadata": {
  "kernelspec": {
   "display_name": "Python 3 (ipykernel)",
   "language": "python",
   "name": "python3"
  },
  "language_info": {
   "codemirror_mode": {
    "name": "ipython",
    "version": 3
   },
   "file_extension": ".py",
   "mimetype": "text/x-python",
   "name": "python",
   "nbconvert_exporter": "python",
   "pygments_lexer": "ipython3",
   "version": "3.8.8"
  }
 },
 "nbformat": 4,
 "nbformat_minor": 5
}
